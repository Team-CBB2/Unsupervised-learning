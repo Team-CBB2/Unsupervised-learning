{
 "cells": [
  {
   "cell_type": "markdown",
   "id": "582153cd",
   "metadata": {},
   "source": [
    "# Unsupervised Learning Predict Team CBB2\n",
    "\n",
    "**© Explore Data Science Academy**\n",
    "\n",
    "CBB2 Team Members\n",
    "1. Amantle Mmonkwa\n",
    "\n",
    "2. Dineo Makrwala\n",
    "\n",
    "3. Asenathi  Sonti\n",
    "\n",
    "4. Desree Maleka\n",
    "\n",
    "5. Ayanda George\n",
    "\n",
    "6. Dumisani Jack\n",
    "\n",
    "## Honour Code\n",
    "\n",
    "We CBB2, confirm - by submitting this document - that the solutions in this notebook are a result of my our work and that we abide by the EDSA honour code.\n",
    "\n",
    "Non-compliance with the honour code constitutes a material breach of contract.\n",
    "\n",
    " **Predict Overview: EDA Movie Recommendation**\n",
    "\n",
    "In today’s technology driven world, recommender systems are socially and economically critical to ensure that individuals can make optimised choices surrounding the content they engage with on a daily basis. One application where this is especially true is movie recommendations; where intelligent algorithms can help viewers find great titles from tens of thousands of options.\n",
    "\n",
    "With this context, EDSA is challenging you to construct a recommendation algorithm based on content or collaborative filtering, capable of accurately predicting how a user will rate a movie they have not yet viewed, based on their historical preferences.\n",
    "\n",
    "Providing an accurate and robust solution to this challenge has immense economic potential, with users of the system being personalised recommendations - generating platform affinity for the streaming services which best facilitates their audience's viewing."
   ]
  },
  {
   "cell_type": "code",
   "execution_count": null,
   "id": "7cb91c4c",
   "metadata": {},
   "outputs": [],
   "source": [
    "! pip install wordcloud"
   ]
  },
  {
   "cell_type": "code",
   "execution_count": null,
   "id": "dfec4b00",
   "metadata": {},
   "outputs": [],
   "source": [
    "import numpy as np\n",
    "import pandas as pd\n",
    "import scipy as sp \n",
    "import matplotlib.pyplot as plt\n",
    "import seaborn as sns\n",
    "\n",
    "\n",
    "from sklearn.metrics.pairwise import cosine_similarity\n",
    "from sklearn.feature_extraction.text import TfidfVectorizer\n",
    "\n",
    "# Libraries used during sorting procedures.\n",
    "import operator\n",
    "import heapq \n",
    "\n",
    "import warnings\n",
    "warnings.filterwarnings('ignore')\n"
   ]
  },
  {
   "cell_type": "code",
   "execution_count": null,
   "id": "fb0521e0",
   "metadata": {},
   "outputs": [],
   "source": []
  }
 ],
 "metadata": {
  "kernelspec": {
   "display_name": "Python 3 (ipykernel)",
   "language": "python",
   "name": "python3"
  },
  "language_info": {
   "codemirror_mode": {
    "name": "ipython",
    "version": 3
   },
   "file_extension": ".py",
   "mimetype": "text/x-python",
   "name": "python",
   "nbconvert_exporter": "python",
   "pygments_lexer": "ipython3",
   "version": "3.9.7"
  }
 },
 "nbformat": 4,
 "nbformat_minor": 5
}
